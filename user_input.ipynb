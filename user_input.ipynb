{
  "nbformat": 4,
  "nbformat_minor": 0,
  "metadata": {
    "colab": {
      "provenance": [],
      "authorship_tag": "ABX9TyNxaMXZ0b057zw+lqijOSur",
      "include_colab_link": true
    },
    "kernelspec": {
      "name": "python3",
      "display_name": "Python 3"
    },
    "language_info": {
      "name": "python"
    }
  },
  "cells": [
    {
      "cell_type": "markdown",
      "metadata": {
        "id": "view-in-github",
        "colab_type": "text"
      },
      "source": [
        "<a href=\"https://colab.research.google.com/github/Frank2446-dotcom/portfolio/blob/main/user_input.ipynb\" target=\"_parent\"><img src=\"https://colab.research.google.com/assets/colab-badge.svg\" alt=\"Open In Colab\"/></a>"
      ]
    },
    {
      "cell_type": "code",
      "execution_count": 1,
      "metadata": {
        "colab": {
          "base_uri": "https://localhost:8080/"
        },
        "id": "MKcec0gqJpkh",
        "outputId": "7f61dd62-fd0c-41ee-afba-dc599c142152"
      },
      "outputs": [
        {
          "output_type": "stream",
          "name": "stdout",
          "text": [
            "What is your name? Frank\n",
            "How old are you? 27\n",
            "Where are you located? nAIROBI\n",
            "Hello Frank, you are 27 years old and live in nAIROBI.\n"
          ]
        }
      ],
      "source": [
        "# user_input.py\n",
        "\n",
        "# Ask the user for their name and store it in a variable called \"name\"\n",
        "name = input(\"What is your name? \")\n",
        "\n",
        "# Ask the user for their age and store it in a variable called \"age\"\n",
        "age = input(\"How old are you? \")\n",
        "\n",
        "# Ask the user for their location and store it in a variable called \"location\"\n",
        "location = input(\"Where are you located? \")\n",
        "\n",
        "# Print out a personalized message using the user's name, age, and location\n",
        "print(\"Hello {}, you are {} years old and live in {}.\".format(name, age, location))\n"
      ]
    }
  ]
}